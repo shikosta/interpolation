{
  "cells": [
    {
      "cell_type": "code",
      "execution_count": 4,
      "id": "87df45de-3e7a-4b5a-b16c-adf5717536ce",
      "metadata": {
        "colab": {
          "base_uri": "https://localhost:8080/",
          "height": 306
        },
        "id": "87df45de-3e7a-4b5a-b16c-adf5717536ce",
        "outputId": "2b606a07-7e87-41b6-88a3-00394b4532ef"
      },
      "outputs": [
        {
          "output_type": "display_data",
          "data": {
            "text/plain": [
              "1.0*x**2 - 1.0"
            ],
            "text/latex": "$\\displaystyle 1.0 x^{2} - 1.0$"
          },
          "metadata": {}
        },
        {
          "output_type": "execute_result",
          "data": {
            "text/plain": [
              "[<matplotlib.lines.Line2D at 0x7ff3a47c1940>]"
            ]
          },
          "metadata": {},
          "execution_count": 4
        },
        {
          "output_type": "display_data",
          "data": {
            "text/plain": [
              "<Figure size 432x288 with 1 Axes>"
            ],
            "image/png": "[encoded data removed]"
          },
          "metadata": {
            "needs_background": "light"
          }
        }
      ],
      "source": [
        "import numpy as np\n",
        "import scipy.linalg as sla\n",
        "import sympy as sym\n",
        "import matplotlib.pyplot as plt\n",
        "from random import randint\n",
        "\n",
        "#entry points\n",
        "x1 = [0, 1,2,3,4,5]\n",
        "y1 = [-1,0,3,8,15,24]\n",
        "#x1 = sorted(list(set(np.random.uniform(-10, 10, 100).tolist())))\n",
        "#y1 = np.random.uniform(-30, 30, len(x1)).tolist()\n",
        "#x1 = sorted(list(set(np.random.randint(-10, 10, 17).tolist())))\n",
        "#y1 = np.random.randint(-30, 30, len(x1)).tolist()\n",
        "\n",
        "#doing matrix Vandermond\n",
        "van = []\n",
        "b = 0\n",
        "for i in range(1, len(x1)+1):\n",
        "    for j in range(1, len(x1)+1):\n",
        "        b = x1[i-1]**(j-1)\n",
        "        van.append(b)\n",
        "s = int(len(van)/len(x1))\n",
        "vandermond = np.array(van)\n",
        "vandermond=np.split(vandermond,s)    \n",
        "\n",
        "#inverse marix\n",
        "X_inv = np.linalg.inv(vandermond)\n",
        "\n",
        "#searching coefficients a0...an\n",
        "A = X_inv@y1\n",
        "A_rounded = sym.Matrix(np.round(A,4))\n",
        "\n",
        "#building a polynomial\n",
        "degree = [i for i in range(0, len(x1))]\n",
        "x = sym.Symbol('x')\n",
        "polynom = 0\n",
        "polynom1 = 0\n",
        "for i in range(0, len(degree)):\n",
        "    polynom +=A[i]*x**degree[i]\n",
        "for i in range(0, len(degree)):\n",
        "    polynom1 +=A_rounded[i]*x**degree[i]\n",
        "display(polynom1)\n",
        "\n",
        "#doing fuction for our polynom\n",
        "x0 = x1[0]\n",
        "x_max = x1[-1] \n",
        "y = sym.lambdify(x, polynom)\n",
        "x = np.arange(x0, x_max, 0.0001)\n",
        "r = [y(i) for i in x]\n",
        "\n",
        "#plot the points and the polynom\n",
        "fig = plt.figure()\n",
        "ax = fig.gca()\n",
        "ax.grid()\n",
        "ax.scatter(x1, y1, c='g')\n",
        "ax.plot(x, r, c='r')"
      ]
    }
  ],
  "metadata": {
    "kernelspec": {
      "display_name": "Python 3 (ipykernel)",
      "language": "python",
      "name": "python3"
    },
    "language_info": {
      "codemirror_mode": {
        "name": "ipython",
        "version": 3
      },
      "file_extension": ".py",
      "mimetype": "text/x-python",
      "name": "python",
      "nbconvert_exporter": "python",
      "pygments_lexer": "ipython3",
      "version": "3.10.7"
    },
    "colab": {
      "provenance": []
    }
  },
  "nbformat": 4,
  "nbformat_minor": 5
}